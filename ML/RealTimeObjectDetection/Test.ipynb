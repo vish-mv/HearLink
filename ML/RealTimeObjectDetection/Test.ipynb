{
 "cells": [
  {
   "cell_type": "code",
   "execution_count": 1,
   "id": "16ca27cf",
   "metadata": {},
   "outputs": [
    {
     "name": "stderr",
     "output_type": "stream",
     "text": [
      "f:\\anaconda\\lib\\site-packages\\numpy\\_distributor_init.py:30: UserWarning: loaded more than 1 DLL from .libs:\n",
      "f:\\anaconda\\lib\\site-packages\\numpy\\.libs\\libopenblas.WCDJNK7YVMPZQ2ME2ZZHJJRJ3JIKNDB7.gfortran-win_amd64.dll\n",
      "f:\\anaconda\\lib\\site-packages\\numpy\\.libs\\libopenblas64__v0.3.21-gcc_10_3_0.dll\n",
      "  warnings.warn(\"loaded more than 1 DLL from .libs:\"\n"
     ]
    }
   ],
   "source": [
    "import cv2\n",
    "import os\n",
    "import time\n",
    "import uuid"
   ]
  },
  {
   "cell_type": "code",
   "execution_count": 2,
   "id": "f3836497",
   "metadata": {},
   "outputs": [],
   "source": [
    "IMAGES_PATH = 'Tensorflow/workspace/images/collectedimages'"
   ]
  },
  {
   "cell_type": "code",
   "execution_count": 4,
   "id": "5976cbea",
   "metadata": {},
   "outputs": [],
   "source": [
    "labels = ['hello','seeyou','later','me','yes','no','help','please','thankyou','what','eat','more','goingto','like','agree','disagree']\n",
    "number_imgs = 50"
   ]
  },
  {
   "cell_type": "code",
   "execution_count": 5,
   "id": "39d0b705",
   "metadata": {},
   "outputs": [
    {
     "name": "stderr",
     "output_type": "stream",
     "text": [
      "A subdirectory or file Tensorflow\\workspace\\images\\collectedimages\\hello already exists.\n"
     ]
    },
    {
     "name": "stdout",
     "output_type": "stream",
     "text": [
      "Collecting images for hello\n",
      "Collecting images for seeyou\n",
      "Collecting images for later\n",
      "Collecting images for me\n"
     ]
    },
    {
     "name": "stderr",
     "output_type": "stream",
     "text": [
      "A subdirectory or file Tensorflow\\workspace\\images\\collectedimages\\yes already exists.\n"
     ]
    },
    {
     "name": "stdout",
     "output_type": "stream",
     "text": [
      "Collecting images for yes\n"
     ]
    },
    {
     "name": "stderr",
     "output_type": "stream",
     "text": [
      "A subdirectory or file Tensorflow\\workspace\\images\\collectedimages\\no already exists.\n"
     ]
    },
    {
     "name": "stdout",
     "output_type": "stream",
     "text": [
      "Collecting images for no\n",
      "Collecting images for help\n",
      "Collecting images for please\n",
      "Collecting images for thankyou\n",
      "Collecting images for what\n",
      "Collecting images for eat\n",
      "Collecting images for more\n",
      "Collecting images for goingto\n",
      "Collecting images for like\n",
      "Collecting images for agree\n",
      "Collecting images for disagree\n"
     ]
    }
   ],
   "source": [
    "for label in labels:\n",
    "    !mkdir {'Tensorflow\\workspace\\images\\collectedimages\\\\'+label}\n",
    "    cap = cv2.VideoCapture(0)\n",
    "    print('Collecting images for {}'.format(label))\n",
    "    time.sleep(5)\n",
    "    for imgnum in range(number_imgs):\n",
    "        ret, frame = cap.read()\n",
    "        imgname = os.path.join(IMAGES_PATH,label,label+'.'+'{}.jpg'.format(str(uuid.uuid1())))\n",
    "        cv2.imwrite(imgname,frame)\n",
    "        cv2.imshow('frame',frame)\n",
    "        time.sleep(2)\n",
    "        if cv2.waitKey(1) & 0xFF == ord('q'):\n",
    "            break\n",
    "    \n",
    "    cap.release()"
   ]
  },
  {
   "cell_type": "code",
   "execution_count": null,
   "id": "2f8bf402",
   "metadata": {},
   "outputs": [],
   "source": []
  }
 ],
 "metadata": {
  "kernelspec": {
   "display_name": "Python 3 (ipykernel)",
   "language": "python",
   "name": "python3"
  },
  "language_info": {
   "codemirror_mode": {
    "name": "ipython",
    "version": 3
   },
   "file_extension": ".py",
   "mimetype": "text/x-python",
   "name": "python",
   "nbconvert_exporter": "python",
   "pygments_lexer": "ipython3",
   "version": "3.8.8"
  }
 },
 "nbformat": 4,
 "nbformat_minor": 5
}
